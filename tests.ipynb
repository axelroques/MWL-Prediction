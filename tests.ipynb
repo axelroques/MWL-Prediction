{
 "cells": [
  {
   "cell_type": "code",
   "execution_count": 1,
   "id": "68feede2",
   "metadata": {},
   "outputs": [],
   "source": [
    "%load_ext autoreload\n",
    "\n",
    "from mwl import Predictor\n",
    "from mwl import Data\n",
    "\n",
    "from jupyterthemes import jtplot\n",
    "jtplot.style(theme='monokai', context='talk', fscale=1.4, spines=False, gridlines='--')"
   ]
  },
  {
   "cell_type": "markdown",
   "id": "481916d2",
   "metadata": {},
   "source": [
    "# Load Data"
   ]
  },
  {
   "cell_type": "markdown",
   "id": "14f01f8d",
   "metadata": {},
   "source": [
    "## Compute Features"
   ]
  },
  {
   "cell_type": "code",
   "execution_count": 2,
   "id": "b1dc3e5a",
   "metadata": {
    "scrolled": false
   },
   "outputs": [
    {
     "name": "stdout",
     "output_type": "stream",
     "text": [
      "Computing features... Done!\n"
     ]
    }
   ],
   "source": [
    "%autoreload\n",
    "\n",
    "data = Data(compute_features=True)"
   ]
  },
  {
   "cell_type": "markdown",
   "id": "0ce04c30",
   "metadata": {},
   "source": [
    "## Load Features"
   ]
  },
  {
   "cell_type": "code",
   "execution_count": 2,
   "id": "fb993175",
   "metadata": {},
   "outputs": [
    {
     "name": "stdout",
     "output_type": "stream",
     "text": [
      "Loading features... Done!\n"
     ]
    }
   ],
   "source": [
    "%autoreload\n",
    "\n",
    "data = Data(compute_features=False)"
   ]
  },
  {
   "cell_type": "markdown",
   "id": "8b223016",
   "metadata": {},
   "source": [
    "## Data Subselection"
   ]
  },
  {
   "cell_type": "code",
   "execution_count": 3,
   "id": "509a257d",
   "metadata": {
    "scrolled": true
   },
   "outputs": [
    {
     "name": "stdout",
     "output_type": "stream",
     "text": [
      "The following features were removed: feature_NASA-TLX_proportion_time_spent_coms, feature_theoretical_NASA-TLX_proportion_time_spent_coms, feature_oral_declaration_proportion_time_spent_coms\n"
     ]
    }
   ],
   "source": [
    "%autoreload\n",
    "\n",
    "data.selectFeatures(\n",
    "    exclude_files=['rc'], \n",
    "    exclude_pilots=[2]\n",
    ")"
   ]
  },
  {
   "cell_type": "markdown",
   "id": "944e6a6a",
   "metadata": {},
   "source": [
    "# Mental Load Prediction"
   ]
  },
  {
   "cell_type": "markdown",
   "id": "a10e6ded",
   "metadata": {},
   "source": [
    "## Training"
   ]
  },
  {
   "cell_type": "code",
   "execution_count": 4,
   "id": "30963b5e",
   "metadata": {
    "scrolled": true
   },
   "outputs": [],
   "source": [
    "%autoreload\n",
    "\n",
    "pred = Predictor(\n",
    "    data,\n",
    "    ground_truth='oral_declaration',\n",
    "    train_prop=0.8,\n",
    "    n_cross_val_splits=5,\n",
    "    n_iterations=300,\n",
    "    n_classifiers=19,\n",
    "    tolerance=0.1,\n",
    "    add_noise=False,\n",
    ")"
   ]
  },
  {
   "cell_type": "code",
   "execution_count": 5,
   "id": "1259b51a",
   "metadata": {},
   "outputs": [
    {
     "name": "stdout",
     "output_type": "stream",
     "text": [
      "Individual AUC via nan matrix for pilot 2:\n",
      "\tMean=0.774± 0.219\n",
      "\t25%=0.750; Median=0.843; 75%=0.887\n",
      "Individual AUC via nan matrix for pilot 3:\n",
      "\tMean=0.879± 0.192\n",
      "\t25%=0.802; Median=0.981; 75%=1.000\n",
      "Individual AUC via nan matrix for pilot 4:\n",
      "\tMean=0.832± 0.196\n",
      "\t25%=0.778; Median=0.857; 75%=0.976\n",
      "Individual AUC via nan matrix for pilot 5:\n",
      "\tMean=0.870± 0.183\n",
      "\t25%=0.833; Median=0.917; 75%=1.000\n",
      "Individual AUC via nan matrix for pilot 6:\n",
      "\tMean=0.807± 0.175\n",
      "\t25%=0.679; Median=0.833; 75%=1.000\n",
      "Individual AUC via nan matrix for pilot 7:\n",
      "\tMean=0.830± 0.159\n",
      "\t25%=0.752; Median=0.850; 75%=0.972\n",
      "Individual AUC via nan matrix for pilot 8:\n",
      "\tMean=0.838± 0.168\n",
      "\t25%=0.750; Median=0.862; 75%=1.000\n",
      "\n",
      "AUC on test sets: Mean=0.818; std=0.089\n",
      "Features contribution to the model:\n",
      "\tfeature_oral_declaration_proportion_time_spent_coms: 1\n",
      "\tfeature_oral_declaration_std_helico_roll: 1\n",
      "\tfeature_oral_declaration_std_helico_pitch: 1\n",
      "\tfeature_oral_declaration_std_helico_yaw: 1\n",
      "\tfeature_oral_declaration_std_helico_altitude: 1\n"
     ]
    }
   ],
   "source": [
    "%autoreload\n",
    "pred.fit_predict()"
   ]
  },
  {
   "cell_type": "code",
   "execution_count": null,
   "id": "6080caab",
   "metadata": {},
   "outputs": [],
   "source": []
  }
 ],
 "metadata": {
  "kernelspec": {
   "display_name": "Python 3",
   "language": "python",
   "name": "python3"
  },
  "language_info": {
   "codemirror_mode": {
    "name": "ipython",
    "version": 3
   },
   "file_extension": ".py",
   "mimetype": "text/x-python",
   "name": "python",
   "nbconvert_exporter": "python",
   "pygments_lexer": "ipython3",
   "version": "3.8.3"
  }
 },
 "nbformat": 4,
 "nbformat_minor": 5
}
