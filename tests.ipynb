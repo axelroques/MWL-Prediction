{
 "cells": [
  {
   "cell_type": "code",
   "execution_count": 1,
   "id": "e0aabf37",
   "metadata": {},
   "outputs": [],
   "source": [
    "%load_ext autoreload\n",
    "\n",
    "from mwl import Predictor\n",
    "from mwl import Data\n",
    "\n",
    "from jupyterthemes import jtplot\n",
    "jtplot.style(theme='monokai', context='talk', fscale=1.4, spines=False, gridlines='--')"
   ]
  },
  {
   "cell_type": "markdown",
   "id": "42b6b01c",
   "metadata": {},
   "source": [
    "# Load Data"
   ]
  },
  {
   "cell_type": "markdown",
   "id": "975ba4e7",
   "metadata": {},
   "source": [
    "## Compute Features"
   ]
  },
  {
   "cell_type": "code",
   "execution_count": 2,
   "id": "7300e8eb",
   "metadata": {
    "scrolled": false
   },
   "outputs": [
    {
     "name": "stdout",
     "output_type": "stream",
     "text": [
      "Computing features... Done!\n"
     ]
    }
   ],
   "source": [
    "%autoreload\n",
    "\n",
    "data = Data(compute_features=True)"
   ]
  },
  {
   "cell_type": "markdown",
   "id": "8b253989",
   "metadata": {},
   "source": [
    "## Load Features"
   ]
  },
  {
   "cell_type": "code",
   "execution_count": 2,
   "id": "8c607573",
   "metadata": {},
   "outputs": [
    {
     "name": "stdout",
     "output_type": "stream",
     "text": [
      "Loading features... Done!\n"
     ]
    }
   ],
   "source": [
    "%autoreload\n",
    "\n",
    "data = Data(compute_features=False)"
   ]
  },
  {
   "cell_type": "markdown",
   "id": "3046e11f",
   "metadata": {},
   "source": [
    "## Data Subselection"
   ]
  },
  {
   "cell_type": "code",
   "execution_count": 17,
   "id": "c3cc3d7e",
   "metadata": {},
   "outputs": [
    {
     "name": "stdout",
     "output_type": "stream",
     "text": [
      "The following features were removed: feature_NASA-TLX_std_helico_altitude, feature_NASA-TLX_std_helico_yaw, feature_NASA-TLX_std_helico_pitch, feature_NASA-TLX_std_helico_roll, feature_theoretical_NASA-TLX_std_helico_altitude, feature_theoretical_NASA-TLX_std_helico_yaw, feature_theoretical_NASA-TLX_std_helico_pitch, feature_theoretical_NASA-TLX_std_helico_roll, feature_oral_evaluation_std_helico_altitude, feature_oral_evaluation_std_helico_yaw, feature_oral_evaluation_std_helico_pitch, feature_oral_evaluation_std_helico_roll\n"
     ]
    }
   ],
   "source": [
    "%autoreload\n",
    "\n",
    "data.selectFeatures(\n",
    "    exclude_files=['am'], \n",
    "    exclude_pilots=[2, 3, 4, 5, 6]\n",
    ")"
   ]
  },
  {
   "cell_type": "markdown",
   "id": "b802e4a9",
   "metadata": {},
   "source": [
    "# Mental Load Prediction"
   ]
  },
  {
   "cell_type": "markdown",
   "id": "ce1fa1c0",
   "metadata": {},
   "source": [
    "## Training"
   ]
  },
  {
   "cell_type": "code",
   "execution_count": 3,
   "id": "f94911af",
   "metadata": {
    "scrolled": true
   },
   "outputs": [],
   "source": [
    "%autoreload\n",
    "\n",
    "pred = Predictor(\n",
    "    data,\n",
    "    ground_truth='oral_declaration',\n",
    "    train_prop=0.8,\n",
    "    n_cross_val_splits=5,\n",
    "    n_iterations=300,\n",
    "    n_classifiers=19,\n",
    "    tolerance=0.1,\n",
    "    add_noise=False,\n",
    ")"
   ]
  },
  {
   "cell_type": "code",
   "execution_count": 4,
   "id": "fe918d4a",
   "metadata": {},
   "outputs": [
    {
     "name": "stdout",
     "output_type": "stream",
     "text": [
      "Individual AUC via nan matrix for pilot 2:\n",
      "\tMean=0.759± 0.153\n",
      "\t25%=0.711; Median=0.775; 75%=0.852\n",
      "Individual AUC via nan matrix for pilot 3:\n",
      "\tMean=0.815± 0.219\n",
      "\t25%=0.745; Median=0.893; 75%=0.990\n",
      "Individual AUC via nan matrix for pilot 4:\n",
      "\tMean=0.780± 0.215\n",
      "\t25%=0.725; Median=0.833; 75%=0.917\n",
      "Individual AUC via nan matrix for pilot 5:\n",
      "\tMean=0.854± 0.156\n",
      "\t25%=0.783; Median=0.881; 75%=0.983\n",
      "Individual AUC via nan matrix for pilot 6:\n",
      "\tMean=0.780± 0.228\n",
      "\t25%=0.708; Median=0.833; 75%=0.938\n",
      "Individual AUC via nan matrix for pilot 7:\n",
      "\tMean=0.795± 0.163\n",
      "\t25%=0.708; Median=0.814; 75%=0.902\n",
      "Individual AUC via nan matrix for pilot 8:\n",
      "\tMean=0.757± 0.228\n",
      "\t25%=0.697; Median=0.793; 75%=0.917\n",
      "Individual AUC via nan matrix for pilot 9:\n",
      "\tMean=0.921± 0.037\n",
      "\t25%=0.920; Median=0.929; 75%=0.944\n",
      "\n",
      "AUC on test sets: Mean=0.797; std=0.080\n",
      "Features contribution to the model:\n",
      "\tfeature_oral_declaration_proportion_time_spent_coms: 1\n",
      "\tfeature_oral_declaration_std_helico_roll: 1\n",
      "\tfeature_oral_declaration_std_helico_pitch: 1\n",
      "\tfeature_oral_declaration_std_helico_yaw: 1\n",
      "\tfeature_oral_declaration_std_helico_altitude: 1\n"
     ]
    }
   ],
   "source": [
    "%autoreload\n",
    "pred.fit_predict()"
   ]
  },
  {
   "cell_type": "code",
   "execution_count": null,
   "id": "0b342600",
   "metadata": {},
   "outputs": [],
   "source": []
  }
 ],
 "metadata": {
  "kernelspec": {
   "display_name": "Python 3",
   "language": "python",
   "name": "python3"
  },
  "language_info": {
   "codemirror_mode": {
    "name": "ipython",
    "version": 3
   },
   "file_extension": ".py",
   "mimetype": "text/x-python",
   "name": "python",
   "nbconvert_exporter": "python",
   "pygments_lexer": "ipython3",
   "version": "3.8.3"
  }
 },
 "nbformat": 4,
 "nbformat_minor": 5
}
