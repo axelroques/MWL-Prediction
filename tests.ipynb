{
 "cells": [
  {
   "cell_type": "code",
   "execution_count": 1,
   "id": "d35c9c2f",
   "metadata": {},
   "outputs": [],
   "source": [
    "%load_ext autoreload\n",
    "\n",
    "from mwl import Predictor\n",
    "from mwl import Data\n",
    "\n",
    "from jupyterthemes import jtplot\n",
    "jtplot.style(theme='monokai', context='talk', fscale=1.4, spines=False, gridlines='--')"
   ]
  },
  {
   "cell_type": "markdown",
   "id": "af18744a",
   "metadata": {},
   "source": [
    "# Load Data"
   ]
  },
  {
   "cell_type": "markdown",
   "id": "8742328e",
   "metadata": {},
   "source": [
    "## Compute Features"
   ]
  },
  {
   "cell_type": "code",
   "execution_count": 2,
   "id": "0d031b39",
   "metadata": {
    "scrolled": false
   },
   "outputs": [
    {
     "name": "stdout",
     "output_type": "stream",
     "text": [
      "Computing features... Done!\n"
     ]
    }
   ],
   "source": [
    "%autoreload\n",
    "\n",
    "data = Data(compute_features=True)"
   ]
  },
  {
   "cell_type": "markdown",
   "id": "3c0188da",
   "metadata": {},
   "source": [
    "## Load Features"
   ]
  },
  {
   "cell_type": "code",
   "execution_count": 10,
   "id": "7a74343c",
   "metadata": {},
   "outputs": [
    {
     "name": "stdout",
     "output_type": "stream",
     "text": [
      "Loading features... Done!\n"
     ]
    }
   ],
   "source": [
    "%autoreload\n",
    "\n",
    "data = Data(compute_features=False)"
   ]
  },
  {
   "cell_type": "markdown",
   "id": "21ae8d13",
   "metadata": {},
   "source": [
    "## Data Subselection"
   ]
  },
  {
   "cell_type": "code",
   "execution_count": 17,
   "id": "6ec4c0cc",
   "metadata": {},
   "outputs": [
    {
     "name": "stdout",
     "output_type": "stream",
     "text": [
      "The following features were removed: feature_NASA-TLX_std_helico_altitude, feature_NASA-TLX_std_helico_yaw, feature_NASA-TLX_std_helico_pitch, feature_NASA-TLX_std_helico_roll, feature_theoretical_NASA-TLX_std_helico_altitude, feature_theoretical_NASA-TLX_std_helico_yaw, feature_theoretical_NASA-TLX_std_helico_pitch, feature_theoretical_NASA-TLX_std_helico_roll, feature_oral_evaluation_std_helico_altitude, feature_oral_evaluation_std_helico_yaw, feature_oral_evaluation_std_helico_pitch, feature_oral_evaluation_std_helico_roll\n"
     ]
    }
   ],
   "source": [
    "%autoreload\n",
    "\n",
    "data.selectFeatures(\n",
    "    exclude_files=['am'], \n",
    "    exclude_pilots=[2, 3, 4, 5, 6]\n",
    ")"
   ]
  },
  {
   "cell_type": "markdown",
   "id": "31bc8540",
   "metadata": {},
   "source": [
    "# Mental Load Prediction"
   ]
  },
  {
   "cell_type": "markdown",
   "id": "5e6825e8",
   "metadata": {},
   "source": [
    "## Training"
   ]
  },
  {
   "cell_type": "code",
   "execution_count": 3,
   "id": "33cdbc1e",
   "metadata": {
    "scrolled": true
   },
   "outputs": [
    {
     "name": "stdout",
     "output_type": "stream",
     "text": [
      "pilot 2 14 2 16\n",
      "pilot 3 8 10 18\n",
      "pilot 4 9 6 15\n",
      "pilot 5 4 8 12\n",
      "pilot 6 9 10 19\n",
      "pilot 7 10 6 16\n",
      "pilot 8 7 11 18\n",
      "pilot 9 6 10 16\n"
     ]
    }
   ],
   "source": [
    "%autoreload\n",
    "\n",
    "pred = Predictor(\n",
    "    train_prop=0.8,\n",
    "    num_iterations=300,\n",
    "    n_cross_val_splits=5,\n",
    "    stratify_=True,\n",
    "    tolerance=0.1,\n",
    "    ground_truth=\"tc\",\n",
    "    add_noise=False,\n",
    "    cv_scheme=\"iB\",\n",
    "    actual_ground_truth=\"oral_declaration\",\n",
    "    exclude_pilots=[],\n",
    "    signal_selection={}\n",
    ")"
   ]
  },
  {
   "cell_type": "code",
   "execution_count": null,
   "id": "9886b08b",
   "metadata": {},
   "outputs": [],
   "source": []
  }
 ],
 "metadata": {
  "kernelspec": {
   "display_name": "Python 3",
   "language": "python",
   "name": "python3"
  },
  "language_info": {
   "codemirror_mode": {
    "name": "ipython",
    "version": 3
   },
   "file_extension": ".py",
   "mimetype": "text/x-python",
   "name": "python",
   "nbconvert_exporter": "python",
   "pygments_lexer": "ipython3",
   "version": "3.8.3"
  }
 },
 "nbformat": 4,
 "nbformat_minor": 5
}
