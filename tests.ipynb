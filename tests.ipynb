{
 "cells": [
  {
   "cell_type": "code",
   "execution_count": 1,
   "id": "943e1db2",
   "metadata": {},
   "outputs": [],
   "source": [
    "%load_ext autoreload\n",
    "\n",
    "from mwl import Predictor\n",
    "from mwl import Data\n",
    "\n",
    "from jupyterthemes import jtplot\n",
    "jtplot.style(theme='monokai', context='talk', fscale=1.4, spines=False, gridlines='--')"
   ]
  },
  {
   "cell_type": "markdown",
   "id": "c06a3e05",
   "metadata": {},
   "source": [
    "# Load Data"
   ]
  },
  {
   "cell_type": "markdown",
   "id": "5985f183",
   "metadata": {},
   "source": [
    "## Compute Features"
   ]
  },
  {
   "cell_type": "code",
   "execution_count": 33,
   "id": "d6450af3",
   "metadata": {
    "scrolled": true
   },
   "outputs": [
    {
     "name": "stdout",
     "output_type": "stream",
     "text": [
      "Computing features... Done!\n"
     ]
    }
   ],
   "source": [
    "%autoreload\n",
    "\n",
    "data = Data(compute_features=True)"
   ]
  },
  {
   "cell_type": "markdown",
   "id": "435eb623",
   "metadata": {},
   "source": [
    "## Load Features"
   ]
  },
  {
   "cell_type": "code",
   "execution_count": 27,
   "id": "6993b100",
   "metadata": {},
   "outputs": [
    {
     "name": "stdout",
     "output_type": "stream",
     "text": [
      "Loading features... Done!\n"
     ]
    }
   ],
   "source": [
    "%autoreload\n",
    "\n",
    "data = Data(compute_features=False)"
   ]
  },
  {
   "cell_type": "markdown",
   "id": "6faa428b",
   "metadata": {},
   "source": [
    "## Data Subselection"
   ]
  },
  {
   "cell_type": "code",
   "execution_count": 3,
   "id": "a3161565",
   "metadata": {
    "scrolled": true
   },
   "outputs": [
    {
     "name": "stdout",
     "output_type": "stream",
     "text": [
      "The following features were removed: feature_NASA-TLX_proportion_time_spent_coms, feature_theoretical_NASA-TLX_proportion_time_spent_coms, feature_oral_declaration_proportion_time_spent_coms\n"
     ]
    }
   ],
   "source": [
    "%autoreload\n",
    "\n",
    "data.selectFeatures(\n",
    "    exclude_files=['rc'], \n",
    "    exclude_pilots=[2]\n",
    ")"
   ]
  },
  {
   "cell_type": "markdown",
   "id": "d012a5f3",
   "metadata": {},
   "source": [
    "# Mental Load Prediction"
   ]
  },
  {
   "cell_type": "markdown",
   "id": "7f3c8060",
   "metadata": {},
   "source": [
    "## Training"
   ]
  },
  {
   "cell_type": "code",
   "execution_count": 3,
   "id": "dac2ad1f",
   "metadata": {
    "scrolled": true
   },
   "outputs": [],
   "source": [
    "%autoreload\n",
    "\n",
    "pred = Predictor(\n",
    "    data,\n",
    "    ground_truth='oral_declaration',\n",
    "    train_prop=0.8,\n",
    "    n_cross_val_splits=5,\n",
    "    n_iterations=300,\n",
    "    n_classifiers=19,\n",
    "    tolerance=0.1,\n",
    "    add_noise=False,\n",
    ")"
   ]
  },
  {
   "cell_type": "code",
   "execution_count": 5,
   "id": "efa7ab09",
   "metadata": {},
   "outputs": [
    {
     "name": "stdout",
     "output_type": "stream",
     "text": [
      "Individual AUC via nan matrix for pilot 2:\n",
      "\tMean=0.766± 0.149\n",
      "\t25%=0.723; Median=0.786; 75%=0.875\n",
      "Individual AUC via nan matrix for pilot 3:\n",
      "\tMean=0.877± 0.148\n",
      "\t25%=0.786; Median=0.944; 75%=1.000\n",
      "Individual AUC via nan matrix for pilot 4:\n",
      "\tMean=0.851± 0.142\n",
      "\t25%=0.769; Median=0.875; 75%=0.991\n",
      "Individual AUC via nan matrix for pilot 5:\n",
      "\tMean=0.886± 0.125\n",
      "\t25%=0.830; Median=0.917; 75%=1.000\n",
      "Individual AUC via nan matrix for pilot 6:\n",
      "\tMean=0.815± 0.194\n",
      "\t25%=0.717; Median=0.861; 75%=1.000\n",
      "Individual AUC via nan matrix for pilot 7:\n",
      "\tMean=0.807± 0.174\n",
      "\t25%=0.711; Median=0.815; 75%=0.986\n",
      "Individual AUC via nan matrix for pilot 8:\n",
      "\tMean=0.774± 0.201\n",
      "\t25%=0.667; Median=0.806; 75%=0.917\n",
      "\n",
      "AUC on test sets: Mean=0.809; std=0.091\n",
      "Features contribution to the model:\n",
      "\tfeature_oral_declaration_std_helico_pitch: 1\n",
      "\tfeature_oral_declaration_std_helico_yaw: 1\n"
     ]
    }
   ],
   "source": [
    "%autoreload\n",
    "AUCs, individual_AUCs_mean, individual_AUCs_median = pred.fit_predict()"
   ]
  },
  {
   "cell_type": "markdown",
   "id": "48b37f4a",
   "metadata": {},
   "source": [
    "## Compare features set"
   ]
  },
  {
   "cell_type": "code",
   "execution_count": 10,
   "id": "05e15015",
   "metadata": {},
   "outputs": [
    {
     "name": "stdout",
     "output_type": "stream",
     "text": [
      "Removing features in ['am']...\n",
      "The following features were removed: feature_NASA-TLX_std_helico_altitude, feature_NASA-TLX_std_helico_yaw, feature_NASA-TLX_std_helico_pitch, feature_NASA-TLX_std_helico_roll, feature_theoretical_NASA-TLX_std_helico_altitude, feature_theoretical_NASA-TLX_std_helico_yaw, feature_theoretical_NASA-TLX_std_helico_pitch, feature_theoretical_NASA-TLX_std_helico_roll, feature_oral_declaration_std_helico_altitude, feature_oral_declaration_std_helico_yaw, feature_oral_declaration_std_helico_pitch, feature_oral_declaration_std_helico_roll\n",
      "The following features were removed: feature_NASA-TLX_proportion_time_spent_coms, feature_theoretical_NASA-TLX_proportion_time_spent_coms, feature_oral_declaration_proportion_time_spent_coms\n"
     ]
    }
   ],
   "source": [
    "%autoreload\n",
    "\n",
    "data = pred.compareFeaturesSet(\n",
    "    remove_feature_groups=[\n",
    "        ['am']\n",
    "    ]\n",
    ")"
   ]
  },
  {
   "cell_type": "code",
   "execution_count": 11,
   "id": "39ff7610",
   "metadata": {},
   "outputs": [
    {
     "data": {
      "text/html": [
       "<div>\n",
       "<style scoped>\n",
       "    .dataframe tbody tr th:only-of-type {\n",
       "        vertical-align: middle;\n",
       "    }\n",
       "\n",
       "    .dataframe tbody tr th {\n",
       "        vertical-align: top;\n",
       "    }\n",
       "\n",
       "    .dataframe thead th {\n",
       "        text-align: right;\n",
       "    }\n",
       "</style>\n",
       "<table border=\"1\" class=\"dataframe\">\n",
       "  <thead>\n",
       "    <tr style=\"text-align: right;\">\n",
       "      <th></th>\n",
       "      <th>Features removed</th>\n",
       "      <th>Mean AUC</th>\n",
       "      <th>Std AUC</th>\n",
       "      <th>Median AUC pilot 2</th>\n",
       "      <th>Median AUC pilot 3</th>\n",
       "      <th>Median AUC pilot 4</th>\n",
       "      <th>Median AUC pilot 5</th>\n",
       "      <th>Median AUC pilot 6</th>\n",
       "      <th>Median AUC pilot 7</th>\n",
       "      <th>Median AUC pilot 8</th>\n",
       "      <th>...</th>\n",
       "      <th>First quartile AUC pilot 8</th>\n",
       "      <th>First quartile AUC pilot 9</th>\n",
       "      <th>Third quartile AUC pilot 2</th>\n",
       "      <th>Third quartile AUC pilot 3</th>\n",
       "      <th>Third quartile AUC pilot 4</th>\n",
       "      <th>Third quartile AUC pilot 5</th>\n",
       "      <th>Third quartile AUC pilot 6</th>\n",
       "      <th>Third quartile AUC pilot 7</th>\n",
       "      <th>Third quartile AUC pilot 8</th>\n",
       "      <th>Third quartile AUC pilot 9</th>\n",
       "    </tr>\n",
       "  </thead>\n",
       "  <tbody>\n",
       "    <tr>\n",
       "      <th>0</th>\n",
       "      <td>am</td>\n",
       "      <td>0.573197</td>\n",
       "      <td>0.084546</td>\n",
       "      <td>0.515422</td>\n",
       "      <td>0.571250</td>\n",
       "      <td>0.588542</td>\n",
       "      <td>0.505556</td>\n",
       "      <td>0.503968</td>\n",
       "      <td>0.533333</td>\n",
       "      <td>0.542857</td>\n",
       "      <td>...</td>\n",
       "      <td>0.455357</td>\n",
       "      <td>0.375</td>\n",
       "      <td>0.689583</td>\n",
       "      <td>0.666667</td>\n",
       "      <td>0.690625</td>\n",
       "      <td>0.633929</td>\n",
       "      <td>0.666667</td>\n",
       "      <td>0.636364</td>\n",
       "      <td>0.659545</td>\n",
       "      <td>0.607143</td>\n",
       "    </tr>\n",
       "    <tr>\n",
       "      <th>1</th>\n",
       "      <td>rc</td>\n",
       "      <td>0.797520</td>\n",
       "      <td>0.080899</td>\n",
       "      <td>0.759821</td>\n",
       "      <td>0.888889</td>\n",
       "      <td>0.821429</td>\n",
       "      <td>0.876623</td>\n",
       "      <td>0.804847</td>\n",
       "      <td>0.812500</td>\n",
       "      <td>0.818182</td>\n",
       "      <td>...</td>\n",
       "      <td>0.690476</td>\n",
       "      <td>0.800</td>\n",
       "      <td>0.851190</td>\n",
       "      <td>1.000000</td>\n",
       "      <td>0.916667</td>\n",
       "      <td>0.977431</td>\n",
       "      <td>0.915179</td>\n",
       "      <td>0.977778</td>\n",
       "      <td>0.928571</td>\n",
       "      <td>0.833333</td>\n",
       "    </tr>\n",
       "  </tbody>\n",
       "</table>\n",
       "<p>2 rows × 27 columns</p>\n",
       "</div>"
      ],
      "text/plain": [
       "  Features removed  Mean AUC   Std AUC  Median AUC pilot 2  \\\n",
       "0               am  0.573197  0.084546            0.515422   \n",
       "1               rc  0.797520  0.080899            0.759821   \n",
       "\n",
       "   Median AUC pilot 3  Median AUC pilot 4  Median AUC pilot 5  \\\n",
       "0            0.571250            0.588542            0.505556   \n",
       "1            0.888889            0.821429            0.876623   \n",
       "\n",
       "   Median AUC pilot 6  Median AUC pilot 7  Median AUC pilot 8  ...  \\\n",
       "0            0.503968            0.533333            0.542857  ...   \n",
       "1            0.804847            0.812500            0.818182  ...   \n",
       "\n",
       "   First quartile AUC pilot 8  First quartile AUC pilot 9  \\\n",
       "0                    0.455357                       0.375   \n",
       "1                    0.690476                       0.800   \n",
       "\n",
       "   Third quartile AUC pilot 2  Third quartile AUC pilot 3  \\\n",
       "0                    0.689583                    0.666667   \n",
       "1                    0.851190                    1.000000   \n",
       "\n",
       "   Third quartile AUC pilot 4  Third quartile AUC pilot 5  \\\n",
       "0                    0.690625                    0.633929   \n",
       "1                    0.916667                    0.977431   \n",
       "\n",
       "   Third quartile AUC pilot 6  Third quartile AUC pilot 7  \\\n",
       "0                    0.666667                    0.636364   \n",
       "1                    0.915179                    0.977778   \n",
       "\n",
       "   Third quartile AUC pilot 8  Third quartile AUC pilot 9  \n",
       "0                    0.659545                    0.607143  \n",
       "1                    0.928571                    0.833333  \n",
       "\n",
       "[2 rows x 27 columns]"
      ]
     },
     "execution_count": 11,
     "metadata": {},
     "output_type": "execute_result"
    }
   ],
   "source": [
    "data"
   ]
  },
  {
   "cell_type": "code",
   "execution_count": null,
   "id": "70d752c3",
   "metadata": {},
   "outputs": [],
   "source": []
  }
 ],
 "metadata": {
  "kernelspec": {
   "display_name": "Python 3",
   "language": "python",
   "name": "python3"
  },
  "language_info": {
   "codemirror_mode": {
    "name": "ipython",
    "version": 3
   },
   "file_extension": ".py",
   "mimetype": "text/x-python",
   "name": "python",
   "nbconvert_exporter": "python",
   "pygments_lexer": "ipython3",
   "version": "3.8.3"
  }
 },
 "nbformat": 4,
 "nbformat_minor": 5
}
