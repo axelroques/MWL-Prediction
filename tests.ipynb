{
 "cells": [
  {
   "cell_type": "code",
   "execution_count": 1,
   "id": "936311d1",
   "metadata": {},
   "outputs": [],
   "source": [
    "%load_ext autoreload\n",
    "\n",
    "from mwl import Predictor\n",
    "from mwl import Data\n",
    "\n",
    "from jupyterthemes import jtplot\n",
    "jtplot.style(theme='monokai', context='talk', fscale=1.4, spines=False, gridlines='--')"
   ]
  },
  {
   "cell_type": "markdown",
   "id": "2ea2822f",
   "metadata": {},
   "source": [
    "# Load Data"
   ]
  },
  {
   "cell_type": "code",
   "execution_count": 3,
   "id": "65807fd1",
   "metadata": {
    "scrolled": false
   },
   "outputs": [
    {
     "name": "stdout",
     "output_type": "stream",
     "text": [
      "feature list ['std_helico_altitude', 'std_helico_yaw', 'std_helico_pitch', 'std_helico_roll', 'std_cmd_coll', 'std_cmd_yaw', 'std_cmd_pitch', 'std_cmd_roll', 'std_force_coll', 'std_force_yaw', 'std_force_pitch', 'std_force_roll', 'proportion_time_spent_coms', 'mean_fixation_duration', 'mean_saccade_duration', 'mean_saccade_amplitude', 'gaze_ellipse_area', 'proportion_time_spent_Unknown', 'proportion_time_spent_Outside View', 'proportion_time_spent_Warning Panel', 'proportion_time_spent_Analog instruments', 'proportion_time_spent_PFDs & NDs', 'proportion_time_spent_CPDS', 'proportion_time_spent_GNS', 'proportion_time_spent_APMS', 'proportion_time_spent_ICPs', 'proportion_time_spent_ACUs', 'proportion_time_spent_Over Head Panel', 'proportion_time_spent_ADF, XPDR & RCU']\n",
      "window = (1579.302, 1629.302)\n",
      "features = {'std_helico_altitude': 122.86535854605071, 'std_helico_yaw': 19.1427729860018, 'std_helico_pitch': 2.2034338423469952, 'std_helico_roll': 9.414792410584527}\n",
      "data = {'std_helico_altitude': [], 'std_helico_yaw': [], 'std_helico_pitch': [], 'std_helico_roll': [], 'std_cmd_coll': [], 'std_cmd_yaw': [], 'std_cmd_pitch': [], 'std_cmd_roll': [], 'std_force_coll': [], 'std_force_yaw': [], 'std_force_pitch': [], 'std_force_roll': [], 'proportion_time_spent_coms': [], 'mean_fixation_duration': [], 'mean_saccade_duration': [], 'mean_saccade_amplitude': [], 'gaze_ellipse_area': [], 'proportion_time_spent_Unknown': [], 'proportion_time_spent_Outside View': [], 'proportion_time_spent_Warning Panel': [], 'proportion_time_spent_Analog instruments': [], 'proportion_time_spent_PFDs & NDs': [], 'proportion_time_spent_CPDS': [], 'proportion_time_spent_GNS': [], 'proportion_time_spent_APMS': [], 'proportion_time_spent_ICPs': [], 'proportion_time_spent_ACUs': [], 'proportion_time_spent_Over Head Panel': [], 'proportion_time_spent_ADF, XPDR & RCU': []}\n",
      "\t feature=std_helico_altitude - value=122.86535854605071\n",
      "\t feature=std_helico_yaw - value=19.1427729860018\n",
      "\t feature=std_helico_pitch - value=2.2034338423469952\n",
      "\t feature=std_helico_roll - value=9.414792410584527\n",
      "window = (1579.302, 1629.302)\n",
      "features = {'std_cmd_coll': 2.414134426745949, 'std_cmd_yaw': 2.7372470713474146, 'std_cmd_pitch': 4.445827457920516, 'std_cmd_roll': 2.777545073189632, 'std_force_coll': 1.128665361892532, 'std_force_yaw': 3.949617806117448, 'std_force_pitch': 0.3657517237908797, 'std_force_roll': 0.3646515799828653}\n",
      "data = {'std_helico_altitude': [122.86535854605071], 'std_helico_yaw': [19.1427729860018], 'std_helico_pitch': [2.2034338423469952], 'std_helico_roll': [9.414792410584527], 'std_cmd_coll': [], 'std_cmd_yaw': [], 'std_cmd_pitch': [], 'std_cmd_roll': [], 'std_force_coll': [], 'std_force_yaw': [], 'std_force_pitch': [], 'std_force_roll': [], 'proportion_time_spent_coms': [], 'mean_fixation_duration': [], 'mean_saccade_duration': [], 'mean_saccade_amplitude': [], 'gaze_ellipse_area': [], 'proportion_time_spent_Unknown': [], 'proportion_time_spent_Outside View': [], 'proportion_time_spent_Warning Panel': [], 'proportion_time_spent_Analog instruments': [], 'proportion_time_spent_PFDs & NDs': [], 'proportion_time_spent_CPDS': [], 'proportion_time_spent_GNS': [], 'proportion_time_spent_APMS': [], 'proportion_time_spent_ICPs': [], 'proportion_time_spent_ACUs': [], 'proportion_time_spent_Over Head Panel': [], 'proportion_time_spent_ADF, XPDR & RCU': []}\n",
      "\t feature=std_cmd_coll - value=2.414134426745949\n",
      "\t feature=std_cmd_yaw - value=2.7372470713474146\n",
      "\t feature=std_cmd_pitch - value=4.445827457920516\n",
      "\t feature=std_cmd_roll - value=2.777545073189632\n",
      "\t feature=std_force_coll - value=1.128665361892532\n",
      "\t feature=std_force_yaw - value=3.949617806117448\n",
      "\t feature=std_force_pitch - value=0.3657517237908797\n",
      "\t feature=std_force_roll - value=0.3646515799828653\n",
      "window = (1579.302, 1629.302)\n"
     ]
    },
    {
     "ename": "KeyError",
     "evalue": "-1",
     "output_type": "error",
     "traceback": [
      "\u001b[1;31m---------------------------------------------------------------------------\u001b[0m",
      "\u001b[1;31mKeyError\u001b[0m                                  Traceback (most recent call last)",
      "\u001b[1;32m~\\anaconda3\\lib\\site-packages\\pandas\\core\\indexes\\base.py\u001b[0m in \u001b[0;36mget_loc\u001b[1;34m(self, key, method, tolerance)\u001b[0m\n\u001b[0;32m   3620\u001b[0m             \u001b[1;32mtry\u001b[0m\u001b[1;33m:\u001b[0m\u001b[1;33m\u001b[0m\u001b[1;33m\u001b[0m\u001b[0m\n\u001b[1;32m-> 3621\u001b[1;33m                 \u001b[1;32mreturn\u001b[0m \u001b[0mself\u001b[0m\u001b[1;33m.\u001b[0m\u001b[0m_engine\u001b[0m\u001b[1;33m.\u001b[0m\u001b[0mget_loc\u001b[0m\u001b[1;33m(\u001b[0m\u001b[0mcasted_key\u001b[0m\u001b[1;33m)\u001b[0m\u001b[1;33m\u001b[0m\u001b[1;33m\u001b[0m\u001b[0m\n\u001b[0m\u001b[0;32m   3622\u001b[0m             \u001b[1;32mexcept\u001b[0m \u001b[0mKeyError\u001b[0m \u001b[1;32mas\u001b[0m \u001b[0merr\u001b[0m\u001b[1;33m:\u001b[0m\u001b[1;33m\u001b[0m\u001b[1;33m\u001b[0m\u001b[0m\n",
      "\u001b[1;32m~\\anaconda3\\lib\\site-packages\\pandas\\_libs\\index.pyx\u001b[0m in \u001b[0;36mpandas._libs.index.IndexEngine.get_loc\u001b[1;34m()\u001b[0m\n",
      "\u001b[1;32m~\\anaconda3\\lib\\site-packages\\pandas\\_libs\\index.pyx\u001b[0m in \u001b[0;36mpandas._libs.index.IndexEngine.get_loc\u001b[1;34m()\u001b[0m\n",
      "\u001b[1;32mpandas\\_libs\\hashtable_class_helper.pxi\u001b[0m in \u001b[0;36mpandas._libs.hashtable.Int64HashTable.get_item\u001b[1;34m()\u001b[0m\n",
      "\u001b[1;32mpandas\\_libs\\hashtable_class_helper.pxi\u001b[0m in \u001b[0;36mpandas._libs.hashtable.Int64HashTable.get_item\u001b[1;34m()\u001b[0m\n",
      "\u001b[1;31mKeyError\u001b[0m: -1",
      "\nThe above exception was the direct cause of the following exception:\n",
      "\u001b[1;31mKeyError\u001b[0m                                  Traceback (most recent call last)",
      "\u001b[1;32m<ipython-input-3-e5c2f24adfdd>\u001b[0m in \u001b[0;36m<module>\u001b[1;34m\u001b[0m\n\u001b[0;32m      1\u001b[0m \u001b[0mget_ipython\u001b[0m\u001b[1;33m(\u001b[0m\u001b[1;33m)\u001b[0m\u001b[1;33m.\u001b[0m\u001b[0mrun_line_magic\u001b[0m\u001b[1;33m(\u001b[0m\u001b[1;34m'autoreload'\u001b[0m\u001b[1;33m,\u001b[0m \u001b[1;34m''\u001b[0m\u001b[1;33m)\u001b[0m\u001b[1;33m\u001b[0m\u001b[1;33m\u001b[0m\u001b[0m\n\u001b[0;32m      2\u001b[0m \u001b[1;33m\u001b[0m\u001b[0m\n\u001b[1;32m----> 3\u001b[1;33m \u001b[0mdata\u001b[0m \u001b[1;33m=\u001b[0m \u001b[0mData\u001b[0m\u001b[1;33m(\u001b[0m\u001b[0mcompute_features\u001b[0m\u001b[1;33m=\u001b[0m\u001b[1;32mTrue\u001b[0m\u001b[1;33m)\u001b[0m\u001b[1;33m\u001b[0m\u001b[1;33m\u001b[0m\u001b[0m\n\u001b[0m",
      "\u001b[1;32m~\\Desktop\\These\\Travail\\Codes\\MWL\\New\\mwl\\data.py\u001b[0m in \u001b[0;36m__init__\u001b[1;34m(self, compute_features)\u001b[0m\n\u001b[0;32m     49\u001b[0m         \u001b[1;31m# Compute all features and save the data\u001b[0m\u001b[1;33m\u001b[0m\u001b[1;33m\u001b[0m\u001b[1;33m\u001b[0m\u001b[0m\n\u001b[0;32m     50\u001b[0m         \u001b[1;32mif\u001b[0m \u001b[0mcompute_features\u001b[0m\u001b[1;33m:\u001b[0m\u001b[1;33m\u001b[0m\u001b[1;33m\u001b[0m\u001b[0m\n\u001b[1;32m---> 51\u001b[1;33m             \u001b[0mself\u001b[0m\u001b[1;33m.\u001b[0m\u001b[0m_all_features\u001b[0m \u001b[1;33m=\u001b[0m \u001b[0mself\u001b[0m\u001b[1;33m.\u001b[0m\u001b[0m_computeFeatures\u001b[0m\u001b[1;33m(\u001b[0m\u001b[1;33m)\u001b[0m\u001b[1;33m\u001b[0m\u001b[1;33m\u001b[0m\u001b[0m\n\u001b[0m\u001b[0;32m     52\u001b[0m             \u001b[0mself\u001b[0m\u001b[1;33m.\u001b[0m\u001b[0m_saveFeatures\u001b[0m\u001b[1;33m(\u001b[0m\u001b[1;33m)\u001b[0m\u001b[1;33m\u001b[0m\u001b[1;33m\u001b[0m\u001b[0m\n\u001b[0;32m     53\u001b[0m \u001b[1;33m\u001b[0m\u001b[0m\n",
      "\u001b[1;32m~\\Desktop\\These\\Travail\\Codes\\MWL\\New\\mwl\\data.py\u001b[0m in \u001b[0;36m_computeFeatures\u001b[1;34m(self, evaluation_type)\u001b[0m\n\u001b[0;32m    125\u001b[0m \u001b[1;33m\u001b[0m\u001b[0m\n\u001b[0;32m    126\u001b[0m                     \u001b[1;31m# Compute features on the resulting DataFrame\u001b[0m\u001b[1;33m\u001b[0m\u001b[1;33m\u001b[0m\u001b[1;33m\u001b[0m\u001b[0m\n\u001b[1;32m--> 127\u001b[1;33m                     features = process[filename](\n\u001b[0m\u001b[0;32m    128\u001b[0m                         \u001b[0mdf_scenario_2\u001b[0m\u001b[1;33m=\u001b[0m\u001b[0mcut\u001b[0m\u001b[1;33m,\u001b[0m \u001b[0mdf_scenario_1\u001b[0m\u001b[1;33m=\u001b[0m\u001b[0mdf_scenario_1\u001b[0m\u001b[1;33m\u001b[0m\u001b[1;33m\u001b[0m\u001b[0m\n\u001b[0;32m    129\u001b[0m                     )\n",
      "\u001b[1;32m~\\Desktop\\These\\Travail\\Codes\\MWL\\New\\mwl\\data.py\u001b[0m in \u001b[0;36m_rcFeatures\u001b[1;34m(**kwargs)\u001b[0m\n\u001b[0;32m    282\u001b[0m             \u001b[0mdiff\u001b[0m\u001b[1;33m[\u001b[0m\u001b[1;34m'p2t_pilot'\u001b[0m\u001b[1;33m]\u001b[0m \u001b[1;33m==\u001b[0m \u001b[1;33m-\u001b[0m\u001b[1;36m1\u001b[0m\u001b[1;33m,\u001b[0m \u001b[1;34m'reltime'\u001b[0m\u001b[1;33m\u001b[0m\u001b[1;33m\u001b[0m\u001b[0m\n\u001b[0;32m    283\u001b[0m         ].sum()\n\u001b[1;32m--> 284\u001b[1;33m         \u001b[0mtotal_duration\u001b[0m \u001b[1;33m=\u001b[0m \u001b[0mdf\u001b[0m\u001b[1;33m[\u001b[0m\u001b[1;34m'reltime'\u001b[0m\u001b[1;33m]\u001b[0m\u001b[1;33m[\u001b[0m\u001b[1;33m-\u001b[0m\u001b[1;36m1\u001b[0m\u001b[1;33m]\u001b[0m \u001b[1;33m-\u001b[0m \u001b[0mdf\u001b[0m\u001b[1;33m[\u001b[0m\u001b[1;34m'reltime'\u001b[0m\u001b[1;33m]\u001b[0m\u001b[1;33m[\u001b[0m\u001b[1;36m0\u001b[0m\u001b[1;33m]\u001b[0m\u001b[1;33m\u001b[0m\u001b[1;33m\u001b[0m\u001b[0m\n\u001b[0m\u001b[0;32m    285\u001b[0m \u001b[1;33m\u001b[0m\u001b[0m\n\u001b[0;32m    286\u001b[0m         return {\n",
      "\u001b[1;32m~\\anaconda3\\lib\\site-packages\\pandas\\core\\series.py\u001b[0m in \u001b[0;36m__getitem__\u001b[1;34m(self, key)\u001b[0m\n\u001b[0;32m    956\u001b[0m \u001b[1;33m\u001b[0m\u001b[0m\n\u001b[0;32m    957\u001b[0m         \u001b[1;32melif\u001b[0m \u001b[0mkey_is_scalar\u001b[0m\u001b[1;33m:\u001b[0m\u001b[1;33m\u001b[0m\u001b[1;33m\u001b[0m\u001b[0m\n\u001b[1;32m--> 958\u001b[1;33m             \u001b[1;32mreturn\u001b[0m \u001b[0mself\u001b[0m\u001b[1;33m.\u001b[0m\u001b[0m_get_value\u001b[0m\u001b[1;33m(\u001b[0m\u001b[0mkey\u001b[0m\u001b[1;33m)\u001b[0m\u001b[1;33m\u001b[0m\u001b[1;33m\u001b[0m\u001b[0m\n\u001b[0m\u001b[0;32m    959\u001b[0m \u001b[1;33m\u001b[0m\u001b[0m\n\u001b[0;32m    960\u001b[0m         \u001b[1;32mif\u001b[0m \u001b[0mis_hashable\u001b[0m\u001b[1;33m(\u001b[0m\u001b[0mkey\u001b[0m\u001b[1;33m)\u001b[0m\u001b[1;33m:\u001b[0m\u001b[1;33m\u001b[0m\u001b[1;33m\u001b[0m\u001b[0m\n",
      "\u001b[1;32m~\\anaconda3\\lib\\site-packages\\pandas\\core\\series.py\u001b[0m in \u001b[0;36m_get_value\u001b[1;34m(self, label, takeable)\u001b[0m\n\u001b[0;32m   1067\u001b[0m \u001b[1;33m\u001b[0m\u001b[0m\n\u001b[0;32m   1068\u001b[0m         \u001b[1;31m# Similar to Index.get_value, but we do not fall back to positional\u001b[0m\u001b[1;33m\u001b[0m\u001b[1;33m\u001b[0m\u001b[1;33m\u001b[0m\u001b[0m\n\u001b[1;32m-> 1069\u001b[1;33m         \u001b[0mloc\u001b[0m \u001b[1;33m=\u001b[0m \u001b[0mself\u001b[0m\u001b[1;33m.\u001b[0m\u001b[0mindex\u001b[0m\u001b[1;33m.\u001b[0m\u001b[0mget_loc\u001b[0m\u001b[1;33m(\u001b[0m\u001b[0mlabel\u001b[0m\u001b[1;33m)\u001b[0m\u001b[1;33m\u001b[0m\u001b[1;33m\u001b[0m\u001b[0m\n\u001b[0m\u001b[0;32m   1070\u001b[0m         \u001b[1;32mreturn\u001b[0m \u001b[0mself\u001b[0m\u001b[1;33m.\u001b[0m\u001b[0mindex\u001b[0m\u001b[1;33m.\u001b[0m\u001b[0m_get_values_for_loc\u001b[0m\u001b[1;33m(\u001b[0m\u001b[0mself\u001b[0m\u001b[1;33m,\u001b[0m \u001b[0mloc\u001b[0m\u001b[1;33m,\u001b[0m \u001b[0mlabel\u001b[0m\u001b[1;33m)\u001b[0m\u001b[1;33m\u001b[0m\u001b[1;33m\u001b[0m\u001b[0m\n\u001b[0;32m   1071\u001b[0m \u001b[1;33m\u001b[0m\u001b[0m\n",
      "\u001b[1;32m~\\anaconda3\\lib\\site-packages\\pandas\\core\\indexes\\base.py\u001b[0m in \u001b[0;36mget_loc\u001b[1;34m(self, key, method, tolerance)\u001b[0m\n\u001b[0;32m   3621\u001b[0m                 \u001b[1;32mreturn\u001b[0m \u001b[0mself\u001b[0m\u001b[1;33m.\u001b[0m\u001b[0m_engine\u001b[0m\u001b[1;33m.\u001b[0m\u001b[0mget_loc\u001b[0m\u001b[1;33m(\u001b[0m\u001b[0mcasted_key\u001b[0m\u001b[1;33m)\u001b[0m\u001b[1;33m\u001b[0m\u001b[1;33m\u001b[0m\u001b[0m\n\u001b[0;32m   3622\u001b[0m             \u001b[1;32mexcept\u001b[0m \u001b[0mKeyError\u001b[0m \u001b[1;32mas\u001b[0m \u001b[0merr\u001b[0m\u001b[1;33m:\u001b[0m\u001b[1;33m\u001b[0m\u001b[1;33m\u001b[0m\u001b[0m\n\u001b[1;32m-> 3623\u001b[1;33m                 \u001b[1;32mraise\u001b[0m \u001b[0mKeyError\u001b[0m\u001b[1;33m(\u001b[0m\u001b[0mkey\u001b[0m\u001b[1;33m)\u001b[0m \u001b[1;32mfrom\u001b[0m \u001b[0merr\u001b[0m\u001b[1;33m\u001b[0m\u001b[1;33m\u001b[0m\u001b[0m\n\u001b[0m\u001b[0;32m   3624\u001b[0m             \u001b[1;32mexcept\u001b[0m \u001b[0mTypeError\u001b[0m\u001b[1;33m:\u001b[0m\u001b[1;33m\u001b[0m\u001b[1;33m\u001b[0m\u001b[0m\n\u001b[0;32m   3625\u001b[0m                 \u001b[1;31m# If we have a listlike key, _check_indexing_error will raise\u001b[0m\u001b[1;33m\u001b[0m\u001b[1;33m\u001b[0m\u001b[1;33m\u001b[0m\u001b[0m\n",
      "\u001b[1;31mKeyError\u001b[0m: -1"
     ]
    }
   ],
   "source": [
    "%autoreload\n",
    "\n",
    "data = Data(compute_features=True)"
   ]
  },
  {
   "cell_type": "markdown",
   "id": "29153107",
   "metadata": {},
   "source": [
    "## Data Subselection"
   ]
  },
  {
   "cell_type": "code",
   "execution_count": null,
   "id": "220d769b",
   "metadata": {},
   "outputs": [],
   "source": [
    "data.selectFeatures(\n",
    "    exclude_files=[], \n",
    "    exclude_pilots=[2]\n",
    ")"
   ]
  },
  {
   "cell_type": "markdown",
   "id": "7ee9156e",
   "metadata": {},
   "source": [
    "# Mental Load Prediction"
   ]
  },
  {
   "cell_type": "code",
   "execution_count": null,
   "id": "e1c5c506",
   "metadata": {},
   "outputs": [],
   "source": []
  },
  {
   "cell_type": "markdown",
   "id": "06ebfaaa",
   "metadata": {},
   "source": [
    "## Training"
   ]
  },
  {
   "cell_type": "code",
   "execution_count": 64,
   "id": "f15a7e6b",
   "metadata": {
    "scrolled": true
   },
   "outputs": [],
   "source": [
    "%autoreload\n",
    "\n",
    "pred = Predictor(\n",
    "    train_prop=0.8,\n",
    "    num_iterations=300,\n",
    "    n_cross_val_splits=5,\n",
    "    stratify_=True,\n",
    "    tolerance=0.1,\n",
    "    ground_truth=\"tc\",\n",
    "    add_noise=False,\n",
    "    cv_scheme=\"iB\",\n",
    "    actual_ground_truth=\"oral_declaration\",\n",
    "    exclude_pilots=[],\n",
    "    signal_selection={}\n",
    ")"
   ]
  },
  {
   "cell_type": "code",
   "execution_count": null,
   "id": "fb58ac4a",
   "metadata": {},
   "outputs": [],
   "source": []
  }
 ],
 "metadata": {
  "kernelspec": {
   "display_name": "Python 3",
   "language": "python",
   "name": "python3"
  },
  "language_info": {
   "codemirror_mode": {
    "name": "ipython",
    "version": 3
   },
   "file_extension": ".py",
   "mimetype": "text/x-python",
   "name": "python",
   "nbconvert_exporter": "python",
   "pygments_lexer": "ipython3",
   "version": "3.8.3"
  }
 },
 "nbformat": 4,
 "nbformat_minor": 5
}
